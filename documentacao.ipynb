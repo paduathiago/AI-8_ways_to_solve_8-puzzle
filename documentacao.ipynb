{
 "cells": [
  {
   "attachments": {},
   "cell_type": "markdown",
   "metadata": {},
   "source": [
    "## Estruturas de Dados\n",
    "\n",
    "### Node\n",
    "A estrutura de dados central do programa é o Node. Sua responsabilidade é representar os atributos das possíveis configurações geradas durante o jogo. Cada nó possui:\n",
    " - **state**: uma matriz 3x3 (numpy 2darray) que representa o estado do jogo;\n",
    " - **parent**: o nó pai do nó atual;\n",
    " - **depth**: a profundidade do nó na árvore de busca, que no caso do 8-puzzle serve como medida de custo para se chegar até a solução, uma vez que cada filho gerado aumenta em 1 o esforço gasto para se chegar até o objetivo;\n",
    " - **cost**: o custo do nó, que pode variar de acordo com o tipo de estratégia adotada para se explorar o espaço de estados, podendo ser correspondente à profundidade, ao número de peças fora do lugar ou à soma das distâncias de cada peça até sua posição final, dependendo da estratégia e da heurística adotada;\n",
    " \n",
    "Node é uma classe de uso geral e foi feita de modo a ser reutilizável pelos diversos algoritmos de busca implementados. Dela foi extraída a classe InformedNode, cujo uso foi pensado para tratar os algoritmos de busca informada. Ela permite tratar a heurística especificada para cada caso no momento de geração dos nós filhos, acrescentando o atributo heuristic para tratar o custo de cada nó.\n",
    "\n",
    "### InformedNode\n",
    "InformedNode é uma subclasse de Node e foi extraída de modo a garantir flexibilidade para os nós e manter responsabilidades separadas entre as classes. Seu intuito é receber uma função heurística como atributo e calcular o custo de cada nó de acordo com a mesma.\n",
    "- **heuristic**: a função heurística definida em código.\n",
    "\n",
    "### Explored\n",
    "Explorados é implementado como uma lista python que armazena aqueles nós que já foram expandidos pelos algoritmos.\n",
    "\n",
    "### Fronteira\n",
    "A fronteira armazena os nós que foram gerados porém ainda não foram explorados pelos algoritmos. Seu uso e exploração constituem a chave para o funcionamento de alguns dos algoritmos de busca que veremos a seguir. Cada um deles define uma forma de mantê-la e explorar os nós armazenados. Ela não é implementada como uma estrutura de dados fixa e sim como uma das variações que veremos a seguir.\n",
    "\n",
    "### Queue\n",
    "Essa estrutura de dados é usada para representar a **fronteira**, no caso do agoritmo Breadth-First Search (BFS). Ela funciona no modelo FIFO (First In, First Out), ou seja, o primeiro elemento a entrar é o primeiro a sair, fornecendo a base para acessar os nodos do espaço de estados sucessivamente em ordem. O uso é a partir da biblioteca queue, com a instanciação de um objeto de queue.Queue().\n",
    "\n",
    "### Stack\n",
    "A pilha tem papel fundamental na implementação do Depth-First Search (DFS), pois ela representa a **fronteira** do algoritmo cujo acesso se dá de maneira Last in, first out (LIFO) conforme os nodos são gerados. No caso do 8-puzzle, utiliza-se uma variação do DFS com limite de profundidade, que é utilizada pelo Iterative Deepening Search (IDS) para fazer buscas sucessivas no espaço.\n",
    "    \n",
    "Outro uso de uma stack foi no momento de impressão dos passos necessários para chegar até a solução. Os nós pai são sucessivamente guardados em uma pilha, que é percorrida posição a posição para a impressão. O emprego dessa estrutura de dados é a partir da biblioteca queue, com a instanciação de um objeto de queue.LifoQueue().\n",
    "\n",
    "### Heap\n",
    "A Heap - ou fila de prioridades - é uma estrutura de dados que representa a **fronteira** dos algoritmos que se utilizam de uma exploração coordenada aos nós de modo a sempre explorar aquele com custo corrente mínimo. São eles Uniform-cost search (Dijkstra), Greedy Best-First Search e A* search. Ela é uma árvore binária que mantém a propriedade de que o nó pai é sempre maior que seus filhos. Dessa forma, o nó com menor custo é sempre o primeiro a ser retirado da fronteira (raiz), o que garante que o algoritmo explore os nodos de menor custo com grande eficiência."
   ]
  },
  {
   "attachments": {},
   "cell_type": "markdown",
   "metadata": {},
   "source": [
    "## Heurísticas\n",
    "As heurísticas foram implementadas como funções, permitindo que sejam passadas como parâmetro para os algoritmos de busca informada, trazendo flexibilidade para a obtenção da informação sobre o custo de cada nó.\n",
    "\n",
    "### Peças fora do lugar\n",
    "A estimativa de custo realizada por essa heurística é feita com base no número de peças fora do lugar quando contrastadas com o objetivo. Ela é feita a partir do relaxamento que permite uma peça ser movida de A para B sem restrições. Sua admissibilidade é garantida pois o número de peças fora do lugar é sempre maior ou igual ao número de movimentos necessários para se chegar até a solução.\n",
    "\n",
    "### Distância de Manhattan\n",
    "Essa heurística surge do relaxamento do 8-puzzle em que uma peça pode ser movida de A para B caso A seja adjacente a B. Basicamente tem-se o somatório das distâncias de cada peça até sua posição final. Ela é admissível pois nunca superestima o custo para se chegar até a solução, uma vez que o número de movimentos necessários para se chegar até a posição final de uma peça é sempre maior ou igual à distância de Manhattan da mesma."
   ]
  },
  {
   "attachments": {},
   "cell_type": "markdown",
   "metadata": {},
   "source": [
    "## Algoritmos\n",
    "\n",
    "### Uninformed Search\n",
    "Os algoritmos de busca sem informação exploram o espaço de estados sistematicamente até atingir o objetivo. Eles percorrem os nodos a partir de uma estratégia bem definida e sem conhecimentos prévios a respeito do custo de cada um.\n",
    "\n",
    "#### Breadth-First Search (BFS)\n",
    "A busca em largura é um algoritmo que percorre a árvore de busca expandindo o nó mais raso ainda não explorado. Desse modo, os nodos são explorados em ordem, conforme os níveis do espaço de estados.\n",
    "\n",
    "#### Uniform Cost-Search (Dijkstra)\n",
    "A busca que custo uniforme pode ser vista como um aprimoramento da BFS no sentido que possui um critério mais bem definido para explorar o espaço de estados. Essa avaliação é feita de maneira a escolher o nodo de menor custo corrente associado para ser expandido.\n",
    "\n",
    "#### Iterative Deepening Search (IDS)\n",
    "O IDS explora os nós da árvore de busca em níveis de maneira sucessiva. Começa explorando somente a raiz, depois a raiz e seus filhos, então a raiz, filhos e netos, e assim segue até alcançar o nível que contém o objetivo. Por apresentar esse comportamento, um mesmo nodo será expandido M - N + 1 vezes, onde M é o nível da meta e N, o do nó em questão.\n",
    "\n",
    "### Informed Search\n",
    "Os algoritmos que fazem busca informada se utilizam de uma função heurística **h(n)** para guiar sua expansão pelo espaço de estados.\n",
    "\n",
    "#### Greedy Best-First Search\n",
    "Esse algoritmo utiliza exclusivamente a função heurística como guia para o espaço de estados. Por ser uma busca gulosa, ele estabelece que o próximo nodo expandido seja sempre aquele cuja função de custo f(n) - neste caso **f(n) = h(n)** - seja minimizada REVIEW\n",
    "\n",
    "#### A* Search\n",
    "O algoritmo A* é um tipo de busca informada que combina o custo real para se chegar até um nodo com uma heurística para formar a função de custo. Sendo assim, temos a expressão **f(n) = g(n) + h(n)**, onde g(n) é o custo real para se alcançar o nó n. Uma vez gerados os estados, a escolha é feita por aquele que minimiza f(n).\n",
    "\n",
    "### Local Search\n",
    "\n",
    "#### Hill Climbing\n",
    "\n"
   ]
  },
  {
   "cell_type": "code",
   "execution_count": 13,
   "metadata": {},
   "outputs": [],
   "source": [
    "import subprocess\n",
    "import matplotlib.pyplot as plt\n",
    "import time\n",
    "from copy import deepcopy"
   ]
  },
  {
   "cell_type": "code",
   "execution_count": 14,
   "metadata": {},
   "outputs": [],
   "source": [
    "args = ['python3', 'tp1.py']"
   ]
  },
  {
   "cell_type": "code",
   "execution_count": 15,
   "metadata": {},
   "outputs": [
    {
     "name": "stdout",
     "output_type": "stream",
     "text": [
      "['python3', 'tp1.py', 'A', '1', '2', '3', '4', '5', '6', '7', '8', '0']\n",
      "['python3', 'tp1.py', 'A', '1', '2', '3', '4', '5', '6', '7', '0', '8']\n",
      "['python3', 'tp1.py', 'A', '1', '2', '3', '4', '0', '5', '7', '8', '6']\n",
      "A [0.42310333251953125, 0.4328038692474365, 0.4532749652862549]\n",
      "['python3', 'tp1.py', 'I', '1', '2', '3', '4', '5', '6', '7', '8', '0']\n",
      "['python3', 'tp1.py', 'I', '1', '2', '3', '4', '5', '6', '7', '0', '8']\n",
      "['python3', 'tp1.py', 'I', '1', '2', '3', '4', '0', '5', '7', '8', '6']\n",
      "I [0.3757181167602539, 0.28511691093444824, 0.3545525074005127]\n",
      "['python3', 'tp1.py', 'H', '1', '2', '3', '4', '5', '6', '7', '8', '0']\n",
      "['python3', 'tp1.py', 'H', '1', '2', '3', '4', '5', '6', '7', '0', '8']\n",
      "['python3', 'tp1.py', 'H', '1', '2', '3', '4', '0', '5', '7', '8', '6']\n",
      "H [0.3916471004486084, 0.37071681022644043, 0.3351151943206787]\n",
      "['python3', 'tp1.py', 'U', '1', '2', '3', '4', '5', '6', '7', '8', '0']\n",
      "['python3', 'tp1.py', 'U', '1', '2', '3', '4', '5', '6', '7', '0', '8']\n",
      "['python3', 'tp1.py', 'U', '1', '2', '3', '4', '0', '5', '7', '8', '6']\n",
      "U [0.291719913482666, 0.33904099464416504, 0.299701452255249]\n",
      "['python3', 'tp1.py', 'B', '1', '2', '3', '4', '5', '6', '7', '8', '0']\n",
      "['python3', 'tp1.py', 'B', '1', '2', '3', '4', '5', '6', '7', '0', '8']\n",
      "['python3', 'tp1.py', 'B', '1', '2', '3', '4', '0', '5', '7', '8', '6']\n",
      "B [0.324451208114624, 0.22276091575622559, 0.5112409591674805]\n",
      "['python3', 'tp1.py', 'G', '1', '2', '3', '4', '5', '6', '7', '8', '0']\n",
      "['python3', 'tp1.py', 'G', '1', '2', '3', '4', '5', '6', '7', '0', '8']\n"
     ]
    },
    {
     "ename": "KeyboardInterrupt",
     "evalue": "",
     "output_type": "error",
     "traceback": [
      "\u001b[0;31m---------------------------------------------------------------------------\u001b[0m",
      "\u001b[0;31mKeyboardInterrupt\u001b[0m                         Traceback (most recent call last)",
      "Cell \u001b[0;32mIn[15], line 11\u001b[0m\n\u001b[1;32m      9\u001b[0m \u001b[39mprint\u001b[39m(args \u001b[39m+\u001b[39m [alg] \u001b[39m+\u001b[39m entry\u001b[39m.\u001b[39msplit(sep \u001b[39m=\u001b[39m \u001b[39m'\u001b[39m\u001b[39m \u001b[39m\u001b[39m'\u001b[39m))\n\u001b[1;32m     10\u001b[0m process \u001b[39m=\u001b[39m subprocess\u001b[39m.\u001b[39mPopen(args \u001b[39m+\u001b[39m [alg] \u001b[39m+\u001b[39m entry\u001b[39m.\u001b[39msplit(sep \u001b[39m=\u001b[39m \u001b[39m'\u001b[39m\u001b[39m \u001b[39m\u001b[39m'\u001b[39m), stdout\u001b[39m=\u001b[39msubprocess\u001b[39m.\u001b[39mPIPE, text\u001b[39m=\u001b[39m\u001b[39mTrue\u001b[39;00m)\n\u001b[0;32m---> 11\u001b[0m output, _ \u001b[39m=\u001b[39m process\u001b[39m.\u001b[39;49mcommunicate()\n\u001b[1;32m     12\u001b[0m finish_time \u001b[39m=\u001b[39m time\u001b[39m.\u001b[39mtime()\n\u001b[1;32m     13\u001b[0m time_spent\u001b[39m.\u001b[39mappend(finish_time \u001b[39m-\u001b[39m start_time)\n",
      "File \u001b[0;32m/usr/lib/python3.10/subprocess.py:1141\u001b[0m, in \u001b[0;36mPopen.communicate\u001b[0;34m(self, input, timeout)\u001b[0m\n\u001b[1;32m   1139\u001b[0m     \u001b[39mself\u001b[39m\u001b[39m.\u001b[39m_stdin_write(\u001b[39minput\u001b[39m)\n\u001b[1;32m   1140\u001b[0m \u001b[39melif\u001b[39;00m \u001b[39mself\u001b[39m\u001b[39m.\u001b[39mstdout:\n\u001b[0;32m-> 1141\u001b[0m     stdout \u001b[39m=\u001b[39m \u001b[39mself\u001b[39;49m\u001b[39m.\u001b[39;49mstdout\u001b[39m.\u001b[39;49mread()\n\u001b[1;32m   1142\u001b[0m     \u001b[39mself\u001b[39m\u001b[39m.\u001b[39mstdout\u001b[39m.\u001b[39mclose()\n\u001b[1;32m   1143\u001b[0m \u001b[39melif\u001b[39;00m \u001b[39mself\u001b[39m\u001b[39m.\u001b[39mstderr:\n",
      "\u001b[0;31mKeyboardInterrupt\u001b[0m: "
     ]
    }
   ],
   "source": [
    "algorithms = ['A', 'I', 'H', 'U', 'B', 'G']\n",
    "\n",
    "with open(\"input.txt\", \"r\") as input_file:\n",
    "    lines = [line.strip() for line in input_file.readlines()]\n",
    "    for alg in algorithms:\n",
    "        time_spent = []\n",
    "        for entry in lines:\n",
    "            start_time = time.time()\n",
    "            print(args + [alg] + entry.split(sep = ' '))\n",
    "            process = subprocess.Popen(args + [alg] + entry.split(sep = ' '), stdout=subprocess.PIPE, text=True)\n",
    "            output, _ = process.communicate()\n",
    "            finish_time = time.time()\n",
    "            time_spent.append(finish_time - start_time)\n",
    "        \n",
    "        print(alg, time_spent)\n",
    "        # plt.plot(range(0, 3), time_spent, label=f\"Time Spent - {alg}\")\n",
    "        # plot number of expanded nodes\n",
    "   \n",
    "\n"
   ]
  },
  {
   "attachments": {},
   "cell_type": "markdown",
   "metadata": {},
   "source": [
    "## Discussão dos resultados obtidos"
   ]
  }
 ],
 "metadata": {
  "kernelspec": {
   "display_name": "Python 3",
   "language": "python",
   "name": "python3"
  },
  "language_info": {
   "codemirror_mode": {
    "name": "ipython",
    "version": 3
   },
   "file_extension": ".py",
   "mimetype": "text/x-python",
   "name": "python",
   "nbconvert_exporter": "python",
   "pygments_lexer": "ipython3",
   "version": "3.10.12"
  },
  "orig_nbformat": 4
 },
 "nbformat": 4,
 "nbformat_minor": 2
}
