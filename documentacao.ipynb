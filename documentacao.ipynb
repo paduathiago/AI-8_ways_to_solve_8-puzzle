{
 "cells": [
  {
   "attachments": {},
   "cell_type": "markdown",
   "metadata": {},
   "source": [
    "## Estruturas de Dados\n",
    "\n",
    "### Node\n",
    "A estrutura de dados central do programa é o Node. Sua responsabilidade é representar os atributos das possíveis configurações geradas durante o jogo. Cada nó possui:\n",
    " - **state**: uma matriz 3x3 que representa o estado do jogo;\n",
    " - **parent**: o nó pai do nó atual;\n",
    " - **depth**: a profundidade do nó na árvore de busca, que no caso do 8-puzzle serve como medida de custo para se chegar até a solução, uma vez que cada filho gerado aumenta em 1 o esforço gasto para se chegar até o objetivo;\n",
    " - **cost**: o custo do nó, que pode variar de acordo com o tipo de estratégia adotada para se explorar o espaço de estados, podendo ser correspondente à profundidade, ao número de peças fora do lugar ou à soma das distâncias de cada peça até sua posição final, dependendo da estratégia e da heurística adotada;\n",
    " \n",
    "Node é uma classe de uso geral e foi feita de modo a ser reutilizável pelos diversos algoritmos de busca implementados. Dela foi extraída a classe InformedNode, cujo uso foi pensado para tratar os algoritmos de busca informada. Ela permite tratar a heurística especificada para cada caso no momento de geração dos nós filhos, acrescentando o atributo heuristic para tratar o custo de cada nó.\n",
    "\n",
    "### InformedNode\n",
    "InformedNode é uma subclasse de Node e foi extraída de modo a garantir flexibilidade para os nós e manter responsabilidades separadas entre as classes. Seu intuito é receber uma função heurística como atributo e calcular o custo de cada nó de acordo com a mesma.\n",
    "- **heuristic**: a função heurística definida em código.\n",
    "\n",
    "### Fronteira\n",
    "A fronteira armazena os nós que foram gerados porém ainda não foram explorados pelos algoritmos. Seu uso e exploração constituem a chave para o funcionamento dos algoritmos de busca. Cada um deles define uma forma de mantê-la e explorar os nós armazenados. Ela não é implementada como uma estrutura de dados fixa e sim como uma das variações que veremos a seguir.\n",
    "\n",
    "### Queue\n",
    "Essa estrutura de dados é usada para representar a **fronteira**, no caso do agoritmo Breadth-First Search (BFS). Ela funciona no modelo FIFO (First In, First Out), ou seja, o primeiro elemento a entrar é o primeiro a sair, fornecendo a base para acessar os nodos do espaço de estados sucessivamente em ordem.\n",
    "\n",
    "### Stack\n",
    "A pilha tem papel fundamental na implementação do Depth-First Search (DFS), pois ela representa a **fronteira** do algoritmo. No caso do 8-puzzle, utiliza-se uma variação do DFS com limite de profundidade, que é utilizada pelo Iterative Deepening Search (IDS) para fazer buscas sucessivas no espaço.\n",
    "\n",
    "### Heap"
   ]
  }
 ],
 "metadata": {
  "language_info": {
   "name": "python"
  },
  "orig_nbformat": 4
 },
 "nbformat": 4,
 "nbformat_minor": 2
}
