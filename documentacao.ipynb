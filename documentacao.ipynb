{
 "cells": [
  {
   "attachments": {},
   "cell_type": "markdown",
   "metadata": {},
   "source": [
    "## Estruturas de Dados\n",
    "\n",
    "### Node\n",
    "A estrutura de dados central do programa é o Node. Sua responsabilidade é representar os atributos das possíveis configurações geradas durante o jogo. Cada nó possui:\n",
    " - **state**: uma matriz 3x3 (numpy 2darray) que representa o estado do jogo;\n",
    " - **parent**: o nó pai do nó atual;\n",
    " - **depth**: a profundidade do nó na árvore de busca, que no caso do 8-puzzle serve como medida de custo para se chegar até a solução, uma vez que cada filho gerado aumenta em 1 o esforço gasto para se chegar até o objetivo;\n",
    " - **cost**: o custo do nó, que pode variar de acordo com o tipo de estratégia adotada para se explorar o espaço de estados, podendo ser correspondente à profundidade, ao número de peças fora do lugar ou à soma das distâncias de cada peça até sua posição final, dependendo da estratégia e da heurística adotada;\n",
    " \n",
    "Node é uma classe de uso geral e foi feita de modo a ser reutilizável pelos diversos algoritmos de busca implementados. Dela foi extraída a classe InformedNode, cujo uso foi pensado para tratar os algoritmos de busca informada. Ela permite tratar a heurística especificada para cada caso no momento de geração dos nós filhos, acrescentando o atributo heuristic para tratar o custo de cada nó.\n",
    "\n",
    "### InformedNode\n",
    "InformedNode é uma subclasse de Node e foi extraída de modo a garantir flexibilidade para os nós e manter responsabilidades separadas entre as classes. Seu intuito é receber uma função heurística como atributo e calcular o custo de cada nó de acordo com a mesma.\n",
    "- **heuristic**: a função heurística definida em código.\n",
    "\n",
    "### Explored\n",
    "Explorados é implementado como uma lista python que armazena aqueles nós que já foram expandidos pelos algoritmos.\n",
    "\n",
    "### Fronteira\n",
    "A fronteira armazena os nós que foram gerados porém ainda não foram explorados pelos algoritmos. Seu uso e exploração constituem a chave para o funcionamento dos algoritmos de busca. Cada um deles define uma forma de mantê-la e explorar os nós armazenados. Ela não é implementada como uma estrutura de dados fixa e sim como uma das variações que veremos a seguir.\n",
    "\n",
    "### Queue\n",
    "Essa estrutura de dados é usada para representar a **fronteira**, no caso do agoritmo Breadth-First Search (BFS). Ela funciona no modelo FIFO (First In, First Out), ou seja, o primeiro elemento a entrar é o primeiro a sair, fornecendo a base para acessar os nodos do espaço de estados sucessivamente em ordem. O uso é a partir da biblioteca queue, com a instanciação de um objeto de queue.Queue().\n",
    "\n",
    "### Stack\n",
    "A pilha tem papel fundamental na implementação do Depth-First Search (DFS), pois ela representa a **fronteira** do algoritmo cujo acesso se dá de maneira Last in, first out (LIFO) conforme os nodos são gerados. No caso do 8-puzzle, utiliza-se uma variação do DFS com limite de profundidade, que é utilizada pelo Iterative Deepening Search (IDS) para fazer buscas sucessivas no espaço.\n",
    "    \n",
    "Outro uso de uma stack foi no momento de impressão dos passos necessários para chegar até a solução. Os nós pai são sucessivamente guardados em uma pilha, que é percorrida posição a posição para a impressão. O emprego dessa estrutura de dados é a partir da biblioteca queue, com a instanciação de um objeto de queue.LifoQueue().\n",
    "\n",
    "### Heap\n",
    "A Heap - ou fila de prioridades - é uma estrutura de dados que representa a **fronteira** dos algoritmos que se utilizam de uma exploração coordenada aos nós de modo a sempre explorar aquele com custo corrente mínimo. São eles Uniform-cost search (Dijkstra), Greedy Best-First Search e A* search. Ela é uma árvore binária que mantém a propriedade de que o nó pai é sempre maior que seus filhos. Dessa forma, o nó com menor custo é sempre o primeiro a ser retirado da fronteira (raiz), o que garante que o algoritmo explore os nodos de menor custo com grande eficiência."
   ]
  }
 ],
 "metadata": {
  "language_info": {
   "name": "python"
  },
  "orig_nbformat": 4
 },
 "nbformat": 4,
 "nbformat_minor": 2
}
