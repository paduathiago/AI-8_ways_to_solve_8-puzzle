{
 "cells": [
  {
   "attachments": {},
   "cell_type": "markdown",
   "metadata": {},
   "source": [
    "## Estruturas de Dados\n",
    "\n",
    "### Node\n",
    "A estrutura de dados central do programa é o Node. Sua responsabilidade é representar os atributos das possíveis configurações geradas durante o jogo. Cada nó possui:\n",
    " - **state**: uma matriz 3x3 (numpy 2darray) que representa o estado do jogo;\n",
    " - **parent**: o nó pai do nó atual;\n",
    " - **depth**: a profundidade do nó na árvore de busca, que no caso do 8-puzzle serve como medida de custo para se chegar até a solução, uma vez que cada filho gerado aumenta em 1 o esforço gasto para se chegar até o objetivo;\n",
    " - **cost**: o custo do nó, que pode variar de acordo com o tipo de estratégia adotada para se explorar o espaço de estados, podendo ser correspondente à profundidade, ao número de peças fora do lugar ou à soma das distâncias de cada peça até sua posição final, dependendo da estratégia e da heurística adotada;\n",
    " \n",
    "Node é uma classe de uso geral e foi feita de modo a ser reutilizável pelos diversos algoritmos de busca implementados. Dela foi extraída a classe InformedNode, cujo uso foi pensado para tratar os algoritmos de busca informada. Ela permite tratar a heurística especificada para cada caso no momento de geração dos nós filhos, acrescentando o atributo heuristic para tratar o custo de cada nó.\n",
    "\n",
    "### InformedNode\n",
    "InformedNode é uma subclasse de Node e foi extraída de modo a garantir flexibilidade para os nós e manter responsabilidades separadas entre as classes. Seu intuito é receber uma função heurística como atributo e calcular o custo de cada nó de acordo com a mesma.\n",
    "- **heuristic**: a função heurística definida em código.\n",
    "\n",
    "### Explored\n",
    "Explorados é implementado como uma lista python que armazena aqueles nós que já foram expandidos pelos algoritmos.\n",
    "\n",
    "### Fronteira\n",
    "A fronteira armazena os nós que foram gerados porém ainda não foram explorados pelos algoritmos. Seu uso e exploração constituem a chave para o funcionamento de alguns dos algoritmos de busca que veremos a seguir. Cada um deles define uma forma de mantê-la e explorar os nós armazenados. Ela não é implementada como uma estrutura de dados fixa e sim como uma das variações que veremos a seguir.\n",
    "\n",
    "### Queue\n",
    "Essa estrutura de dados é usada para representar a **fronteira**, no caso do agoritmo Breadth-First Search (BFS). Ela funciona no modelo FIFO (First In, First Out), ou seja, o primeiro elemento a entrar é o primeiro a sair, fornecendo a base para acessar os nodos do espaço de estados sucessivamente em ordem. O uso é a partir da biblioteca queue, com a instanciação de um objeto de queue.Queue().\n",
    "\n",
    "### Stack\n",
    "A pilha tem papel fundamental na implementação do Depth-First Search (DFS), pois ela representa a **fronteira** do algoritmo cujo acesso se dá de maneira Last in, first out (LIFO) conforme os nodos são gerados. No caso do 8-puzzle, utiliza-se uma variação do DFS com limite de profundidade, que é utilizada pelo Iterative Deepening Search (IDS) para fazer buscas sucessivas no espaço.\n",
    "    \n",
    "Outro uso de uma stack foi no momento de impressão dos passos necessários para chegar até a solução. Os nós pai são sucessivamente guardados em uma pilha, que é percorrida posição a posição para a impressão. O emprego dessa estrutura de dados é a partir da biblioteca queue, com a instanciação de um objeto de queue.LifoQueue().\n",
    "\n",
    "### Heap\n",
    "A Heap - ou fila de prioridades - é uma estrutura de dados que representa a **fronteira** dos algoritmos que se utilizam de uma exploração coordenada aos nós de modo a sempre explorar aquele com custo corrente mínimo. São eles Uniform-cost search (Dijkstra), Greedy Best-First Search e A* search. Ela é uma árvore binária que mantém a propriedade de que o nó pai é sempre maior que seus filhos. Dessa forma, o nó com menor custo é sempre o primeiro a ser retirado da fronteira (raiz), o que garante que o algoritmo explore os nodos de menor custo com grande eficiência."
   ]
  },
  {
   "attachments": {},
   "cell_type": "markdown",
   "metadata": {},
   "source": [
    "## Heurísticas\n",
    "As heurísticas foram implementadas como funções, permitindo que sejam passadas como parâmetro para os algoritmos de busca informada, trazendo flexibilidade para a obtenção da informação sobre o custo de cada nó.\n",
    "\n",
    "### Peças fora do lugar\n",
    "A estimativa de custo realizada por essa heurística é feita com base no número de peças fora do lugar quando contrastadas com o objetivo. Ela é feita a partir do relaxamento que permite uma peça ser movida de A para B sem restrições. Sua admissibilidade é garantida pois o número de peças fora do lugar é sempre maior ou igual ao número de movimentos necessários para se chegar até a solução.\n",
    "\n",
    "### Distância de Manhattan\n",
    "Essa heurística surge do relaxamento do 8-puzzle em que uma peça pode ser movida de A para B caso A seja adjacente a B. Basicamente tem-se o somatório das distâncias de cada peça até sua posição final. Ela é admissível pois nunca superestima o custo para se chegar até a solução, uma vez que o número de movimentos necessários para se chegar até a posição final de uma peça é sempre maior ou igual à distância de Manhattan da mesma."
   ]
  },
  {
   "attachments": {},
   "cell_type": "markdown",
   "metadata": {},
   "source": [
    "## Algoritmos\n",
    "\n",
    "### Uninformed Search\n",
    "Os algoritmos de busca sem informação exploram o espaço de estados sistematicamente até atingir o objetivo. Eles percorrem os nodos a partir de uma estratégia bem definida e sem conhecimentos prévios a respeito do custo de cada um.\n",
    "\n",
    "#### Breadth-First Search (BFS)\n",
    "A busca em largura é um algoritmo que percorre a árvore de busca expandindo o nó mais raso ainda não explorado. Desse modo, os nodos são explorados em ordem, conforme os níveis do espaço de estados.\n",
    "\n",
    "#### Uniform Cost-Search (Dijkstra)\n",
    "A busca que custo uniforme pode ser vista como um aprimoramento da BFS no sentido que possui um critério mais bem definido para explorar o espaço de estados. Essa avaliação é feita de maneira a escolher o nodo de menor custo corrente associado para ser expandido.\n",
    "\n",
    "#### Iterative Deepening Search (IDS)\n",
    "O IDS explora os nós da árvore de busca em níveis de maneira sucessiva. Começa explorando somente a raiz, depois a raiz e seus filhos, então a raiz, filhos e netos, e assim segue até alcançar o nível que contém o objetivo. Por apresentar esse comportamento, um mesmo nodo será expandido M - N + 1 vezes, onde M é o nível da meta e N, o do nó em questão.\n",
    "\n",
    "### Informed Search\n",
    "Os algoritmos que fazem busca informada se utilizam de uma função heurística **h(n)** para guiar sua expansão pelo espaço de estados.\n",
    "\n",
    "#### Greedy Best-First Search\n",
    "Esse algoritmo utiliza exclusivamente a função heurística como guia para o espaço de estados. Por ser uma busca gulosa, ele estabelece que o próximo nodo expandido seja sempre aquele cuja função de custo f(n) - neste caso **f(n) = h(n)** - seja minimizada REVIEW\n",
    "\n",
    "#### A* Search\n",
    "O algoritmo A* é um tipo de busca informada que combina o custo real para se chegar até um nodo com uma heurística para formar a função de custo. Sendo assim, temos a expressão **f(n) = g(n) + h(n)**, onde g(n) é o custo real para se alcançar o nó n. Uma vez gerados os estados, a escolha é feita por aquele que minimiza f(n).\n",
    "\n",
    "### Local Search\n",
    "A busca local geralmente preza pelo resultado em detrimento do caminho percorrido para se atingir o objetivo. Neste caso, no entanto, foi garantido que o caminho percorrido fosse impresso para que se pudesse analisar o comportamento do algortimo.\n",
    "\n",
    "#### Hill Climbing\n",
    "O algoritmo de Hill climbing visa sempre o melhoramento do estado corrente, ou seja, ele sempre escolhe o estado que possui o menor custo dentre os estados vizinhos. Esse comportamento guloso, contudo, abre a possibilidade de que o algoritmo fique preso em um mínimo local ou em platôs, que são regiões do espaço de estados em que todos os estados possuem o mesmo custo. Para evitar esse último caso, foi tolerado que o algoritmo aceitasse estados com custo igual ao do estado corrente até um limite k = 4, visto que esse é o número de filhos que um nó pode ter.\n",
    "\n"
   ]
  },
  {
   "cell_type": "code",
   "execution_count": 14,
   "metadata": {},
   "outputs": [],
   "source": [
    "import subprocess\n",
    "import matplotlib.pyplot as plt\n",
    "import time"
   ]
  },
  {
   "cell_type": "code",
   "execution_count": 15,
   "metadata": {},
   "outputs": [],
   "source": [
    "args = ['python3', 'tp1.py']\n",
    "algorithms = ['H']\n",
    "algs_dict = {'A': 'A*', 'B': 'BFS', 'G': 'Greedy Best-First','H': 'Hill Climbing',\n",
    "            'I': 'Iterative Deepening', 'U': 'Uniform Cost'}"
   ]
  },
  {
   "cell_type": "code",
   "execution_count": 16,
   "metadata": {},
   "outputs": [
    {
     "ename": "FileNotFoundError",
     "evalue": "[Errno 2] No such file or directory: 'input.txt'",
     "output_type": "error",
     "traceback": [
      "\u001b[0;31m---------------------------------------------------------------------------\u001b[0m",
      "\u001b[0;31mFileNotFoundError\u001b[0m                         Traceback (most recent call last)",
      "\u001b[1;32m/home/thiago/UFMG/7_periodo/introducao a IA/TPs/AI-8_ways_to_solve_8-puzzle/documentacao.ipynb Cell 6\u001b[0m line \u001b[0;36m3\n\u001b[1;32m      <a href='vscode-notebook-cell:/home/thiago/UFMG/7_periodo/introducao%20a%20IA/TPs/AI-8_ways_to_solve_8-puzzle/documentacao.ipynb#X20sZmlsZQ%3D%3D?line=0'>1</a>\u001b[0m fig, axs \u001b[39m=\u001b[39m plt\u001b[39m.\u001b[39msubplots(\u001b[39m1\u001b[39m, \u001b[39m2\u001b[39m, figsize\u001b[39m=\u001b[39m(\u001b[39m12\u001b[39m, \u001b[39m5\u001b[39m))\n\u001b[0;32m----> <a href='vscode-notebook-cell:/home/thiago/UFMG/7_periodo/introducao%20a%20IA/TPs/AI-8_ways_to_solve_8-puzzle/documentacao.ipynb#X20sZmlsZQ%3D%3D?line=2'>3</a>\u001b[0m \u001b[39mwith\u001b[39;00m \u001b[39mopen\u001b[39;49m(\u001b[39m\"\u001b[39;49m\u001b[39minput.txt\u001b[39;49m\u001b[39m\"\u001b[39;49m, \u001b[39m\"\u001b[39;49m\u001b[39mr\u001b[39;49m\u001b[39m\"\u001b[39;49m) \u001b[39mas\u001b[39;00m input_file:\n\u001b[1;32m      <a href='vscode-notebook-cell:/home/thiago/UFMG/7_periodo/introducao%20a%20IA/TPs/AI-8_ways_to_solve_8-puzzle/documentacao.ipynb#X20sZmlsZQ%3D%3D?line=3'>4</a>\u001b[0m     lines \u001b[39m=\u001b[39m [line\u001b[39m.\u001b[39mstrip() \u001b[39mfor\u001b[39;00m line \u001b[39min\u001b[39;00m input_file\u001b[39m.\u001b[39mreadlines()]\n\u001b[1;32m      <a href='vscode-notebook-cell:/home/thiago/UFMG/7_periodo/introducao%20a%20IA/TPs/AI-8_ways_to_solve_8-puzzle/documentacao.ipynb#X20sZmlsZQ%3D%3D?line=4'>5</a>\u001b[0m     \u001b[39mfor\u001b[39;00m alg \u001b[39min\u001b[39;00m algorithms:\n",
      "File \u001b[0;32m~/.local/lib/python3.10/site-packages/IPython/core/interactiveshell.py:282\u001b[0m, in \u001b[0;36m_modified_open\u001b[0;34m(file, *args, **kwargs)\u001b[0m\n\u001b[1;32m    275\u001b[0m \u001b[39mif\u001b[39;00m file \u001b[39min\u001b[39;00m {\u001b[39m0\u001b[39m, \u001b[39m1\u001b[39m, \u001b[39m2\u001b[39m}:\n\u001b[1;32m    276\u001b[0m     \u001b[39mraise\u001b[39;00m \u001b[39mValueError\u001b[39;00m(\n\u001b[1;32m    277\u001b[0m         \u001b[39mf\u001b[39m\u001b[39m\"\u001b[39m\u001b[39mIPython won\u001b[39m\u001b[39m'\u001b[39m\u001b[39mt let you open fd=\u001b[39m\u001b[39m{\u001b[39;00mfile\u001b[39m}\u001b[39;00m\u001b[39m by default \u001b[39m\u001b[39m\"\u001b[39m\n\u001b[1;32m    278\u001b[0m         \u001b[39m\"\u001b[39m\u001b[39mas it is likely to crash IPython. If you know what you are doing, \u001b[39m\u001b[39m\"\u001b[39m\n\u001b[1;32m    279\u001b[0m         \u001b[39m\"\u001b[39m\u001b[39myou can use builtins\u001b[39m\u001b[39m'\u001b[39m\u001b[39m open.\u001b[39m\u001b[39m\"\u001b[39m\n\u001b[1;32m    280\u001b[0m     )\n\u001b[0;32m--> 282\u001b[0m \u001b[39mreturn\u001b[39;00m io_open(file, \u001b[39m*\u001b[39;49margs, \u001b[39m*\u001b[39;49m\u001b[39m*\u001b[39;49mkwargs)\n",
      "\u001b[0;31mFileNotFoundError\u001b[0m: [Errno 2] No such file or directory: 'input.txt'"
     ]
    },
    {
     "data": {
      "image/png": "[encoded data removed]",
      "text/plain": [
       "<Figure size 1200x500 with 2 Axes>"
      ]
     },
     "metadata": {},
     "output_type": "display_data"
    }
   ],
   "source": [
    "fig, axs = plt.subplots(1, 2, figsize=(12, 5))\n",
    "\n",
    "with open(\"input.txt\", \"r\") as input_file:\n",
    "    lines = [line.strip() for line in input_file.readlines()]\n",
    "    for alg in algorithms:\n",
    "        time_spent = []\n",
    "        explored_nodes = []\n",
    "        for entry in lines:\n",
    "            start_time = time.time()\n",
    "            process = subprocess.Popen(args + [alg] + entry.split(sep = ' '), stdout=subprocess.PIPE, text=True)\n",
    "            output, _ = process.communicate()\n",
    "            finish_time = time.time()\n",
    "            time_spent.append(finish_time - start_time)\n",
    "            explored_nodes.append(int(output.split(sep = ' ')[-1]))\n",
    "        \n",
    "        axs[0].plot(range(0, 10), time_spent, label=f\"{algs_dict[alg]}\")\n",
    "        axs[0].set(xlabel='Solution depth', ylabel='Time Spent (seconds)', title='Time Spent x Solution Depth')\n",
    "        axs[0].legend()\n",
    "        \n",
    "        # You must be on branch \"performance analysis\" to run this part of the code\n",
    "        axs[1].plot(range(0, 10), explored_nodes, label=f\"{algs_dict[alg]}\")\n",
    "        axs[1].set(xlabel='Solution depth', ylabel='Explored Nodes', title='Explored Nodes x Solution Depth')\n",
    "        axs[1].legend()\n",
    "        \n",
    "    \n",
    "    plt.show()"
   ]
  },
  {
   "attachments": {},
   "cell_type": "markdown",
   "metadata": {},
   "source": [
    "## Discussão dos resultados obtidos"
   ]
  }
 ],
 "metadata": {
  "kernelspec": {
   "display_name": "Python 3",
   "language": "python",
   "name": "python3"
  },
  "language_info": {
   "codemirror_mode": {
    "name": "ipython",
    "version": 3
   },
   "file_extension": ".py",
   "mimetype": "text/x-python",
   "name": "python",
   "nbconvert_exporter": "python",
   "pygments_lexer": "ipython3",
   "version": "3.10.12"
  },
  "orig_nbformat": 4
 },
 "nbformat": 4,
 "nbformat_minor": 2
}
